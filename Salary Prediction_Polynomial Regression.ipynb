{
 "cells": [
  {
   "cell_type": "code",
   "execution_count": 1,
   "metadata": {},
   "outputs": [],
   "source": [
    "import numpy as np\n",
    "import matplotlib.pyplot as plt\n",
    "import pandas as pd\n",
    "%matplotlib inline"
   ]
  },
  {
   "cell_type": "code",
   "execution_count": 6,
   "metadata": {},
   "outputs": [],
   "source": [
    "df = pd.read_csv(r'C:\\Users\\sonal\\Downloads\\Position_Salaries.csv', encoding='unicode_escape')"
   ]
  },
  {
   "cell_type": "code",
   "execution_count": 9,
   "metadata": {},
   "outputs": [
    {
     "data": {
      "text/html": [
       "<div>\n",
       "<style scoped>\n",
       "    .dataframe tbody tr th:only-of-type {\n",
       "        vertical-align: middle;\n",
       "    }\n",
       "\n",
       "    .dataframe tbody tr th {\n",
       "        vertical-align: top;\n",
       "    }\n",
       "\n",
       "    .dataframe thead th {\n",
       "        text-align: right;\n",
       "    }\n",
       "</style>\n",
       "<table border=\"1\" class=\"dataframe\">\n",
       "  <thead>\n",
       "    <tr style=\"text-align: right;\">\n",
       "      <th></th>\n",
       "      <th>Position</th>\n",
       "      <th>Level</th>\n",
       "      <th>Salary</th>\n",
       "    </tr>\n",
       "  </thead>\n",
       "  <tbody>\n",
       "    <tr>\n",
       "      <th>0</th>\n",
       "      <td>Business Analyst</td>\n",
       "      <td>1</td>\n",
       "      <td>45000</td>\n",
       "    </tr>\n",
       "    <tr>\n",
       "      <th>1</th>\n",
       "      <td>Junior Consultant</td>\n",
       "      <td>2</td>\n",
       "      <td>50000</td>\n",
       "    </tr>\n",
       "    <tr>\n",
       "      <th>2</th>\n",
       "      <td>Senior Consultant</td>\n",
       "      <td>3</td>\n",
       "      <td>60000</td>\n",
       "    </tr>\n",
       "    <tr>\n",
       "      <th>3</th>\n",
       "      <td>Manager</td>\n",
       "      <td>4</td>\n",
       "      <td>80000</td>\n",
       "    </tr>\n",
       "    <tr>\n",
       "      <th>4</th>\n",
       "      <td>Country Manager</td>\n",
       "      <td>5</td>\n",
       "      <td>110000</td>\n",
       "    </tr>\n",
       "    <tr>\n",
       "      <th>5</th>\n",
       "      <td>Region Manager</td>\n",
       "      <td>6</td>\n",
       "      <td>150000</td>\n",
       "    </tr>\n",
       "    <tr>\n",
       "      <th>6</th>\n",
       "      <td>Partner</td>\n",
       "      <td>7</td>\n",
       "      <td>200000</td>\n",
       "    </tr>\n",
       "    <tr>\n",
       "      <th>7</th>\n",
       "      <td>Senior Partner</td>\n",
       "      <td>8</td>\n",
       "      <td>300000</td>\n",
       "    </tr>\n",
       "    <tr>\n",
       "      <th>8</th>\n",
       "      <td>C-level</td>\n",
       "      <td>9</td>\n",
       "      <td>500000</td>\n",
       "    </tr>\n",
       "    <tr>\n",
       "      <th>9</th>\n",
       "      <td>CEO</td>\n",
       "      <td>10</td>\n",
       "      <td>1000000</td>\n",
       "    </tr>\n",
       "  </tbody>\n",
       "</table>\n",
       "</div>"
      ],
      "text/plain": [
       "            Position  Level   Salary\n",
       "0   Business Analyst      1    45000\n",
       "1  Junior Consultant      2    50000\n",
       "2  Senior Consultant      3    60000\n",
       "3            Manager      4    80000\n",
       "4    Country Manager      5   110000\n",
       "5     Region Manager      6   150000\n",
       "6            Partner      7   200000\n",
       "7     Senior Partner      8   300000\n",
       "8            C-level      9   500000\n",
       "9                CEO     10  1000000"
      ]
     },
     "execution_count": 9,
     "metadata": {},
     "output_type": "execute_result"
    }
   ],
   "source": [
    "df"
   ]
  },
  {
   "cell_type": "code",
   "execution_count": 11,
   "metadata": {},
   "outputs": [],
   "source": [
    "# X-> Level column\n",
    "X = df.iloc[:, 1:2].values \n",
    "# Y-> Salary Column\n",
    "y = df.iloc[:, 2].values"
   ]
  },
  {
   "cell_type": "code",
   "execution_count": 33,
   "metadata": {},
   "outputs": [
    {
     "data": {
      "image/png": "[encoded data removed]",
      "text/plain": [
       "<Figure size 432x288 with 1 Axes>"
      ]
     },
     "metadata": {
      "needs_background": "light"
     },
     "output_type": "display_data"
    },
    {
     "name": "stdout",
     "output_type": "stream",
     "text": [
      "The predicted salary of a person at 6.5 Level is  [330378.78787879]\n"
     ]
    }
   ],
   "source": [
    "# Fitting Linear Regression\n",
    "\n",
    "from sklearn.linear_model import LinearRegression\n",
    "lr= LinearRegression()\n",
    "lr.fit(X,y)\n",
    "y_pred=lr.predict(X)\n",
    "\n",
    "# Visualizing Linear Regression Results\n",
    "\n",
    "plt.scatter(X, y, color=\"red\")\n",
    "plt.plot(X,y_pred)\n",
    "plt.title(\"Linear Regression\")\n",
    "plt.xlabel(\"Level\")\n",
    "plt.ylabel(\"Salary\")\n",
    "plt.show()\n",
    "\n",
    "predicted_salary = lr.predict([[6.5]])\n",
    "print('The predicted salary of a person at 6.5 Level is ',predicted_salary)"
   ]
  },
  {
   "cell_type": "code",
   "execution_count": 46,
   "metadata": {},
   "outputs": [
    {
     "name": "stdout",
     "output_type": "stream",
     "text": [
      "R2 score for linear regression:  0.5053238120653418\n",
      "Mean Squared Error for linear regression:  26695878787.878788\n"
     ]
    }
   ],
   "source": [
    "from sklearn.metrics import r2_score\n",
    "from sklearn.metrics import mean_squared_error\n",
    "print(\"R2 score for linear regression: \",r2_score(y_pred,y))\n",
    "print(\"Mean Squared Error for linear regression: \",mean_squared_error(y_pred,y))"
   ]
  },
  {
   "cell_type": "code",
   "execution_count": 36,
   "metadata": {},
   "outputs": [
    {
     "data": {
      "image/png": "[encoded data removed]",
      "text/plain": [
       "<Figure size 432x288 with 1 Axes>"
      ]
     },
     "metadata": {
      "needs_background": "light"
     },
     "output_type": "display_data"
    },
    {
     "name": "stdout",
     "output_type": "stream",
     "text": [
      "The predicted salary of a person at 6.5 Level is  [189498.10606061]\n"
     ]
    }
   ],
   "source": [
    "# Convert X to polynomial format - degree 2\n",
    "\n",
    "from sklearn.preprocessing import PolynomialFeatures\n",
    "poly_reg_2 = PolynomialFeatures(degree=2)\n",
    "X_poly_2 = poly_reg_2.fit_transform(X)\n",
    "\n",
    "# Passing X_poly to LinearRegression\n",
    "\n",
    "lin_reg_2 = LinearRegression()\n",
    "lin_reg_2.fit(X_poly_2, y)\n",
    "y_pred_2 = lin_reg_2.predict(X_poly_2)\n",
    "# Visualize Poly Regression Results\n",
    "\n",
    "plt.scatter(X, y, color=\"red\")\n",
    "plt.plot(X,y_pred_2 )\n",
    "plt.title(\"Poly Regression - Degree 2\")\n",
    "plt.xlabel(\"Level\")\n",
    "plt.ylabel(\"Salary\")\n",
    "plt.show()\n",
    "\n",
    "# Polynomial Regression prediction\n",
    "\n",
    "new_salary_pred = lin_reg_2.predict(poly_reg_2.fit_transform([[6.5]]))\n",
    "print('The predicted salary of a person at 6.5 Level is ',new_salary_pred)"
   ]
  },
  {
   "cell_type": "code",
   "execution_count": 45,
   "metadata": {},
   "outputs": [
    {
     "name": "stdout",
     "output_type": "stream",
     "text": [
      "R2 score for linear regression:  0.908545049225284\n",
      "Mean Squared Error for linear regression:  6758833333.333334\n"
     ]
    }
   ],
   "source": [
    "from sklearn.metrics import r2_score\n",
    "from sklearn.metrics import mean_squared_error\n",
    "print(\"R2 score for linear regression: \",r2_score(y_pred_2,y))\n",
    "print(\"Mean Squared Error for linear regression: \",mean_squared_error(y_pred_2,y))"
   ]
  },
  {
   "cell_type": "code",
   "execution_count": 39,
   "metadata": {},
   "outputs": [
    {
     "data": {
      "image/png": "[encoded data removed]",
      "text/plain": [
       "<Figure size 432x288 with 1 Axes>"
      ]
     },
     "metadata": {
      "needs_background": "light"
     },
     "output_type": "display_data"
    },
    {
     "name": "stdout",
     "output_type": "stream",
     "text": [
      "The predicted salary of a person at 6.5 Level is  [133259.46969697]\n"
     ]
    }
   ],
   "source": [
    "# Change degree to 3\n",
    "\n",
    "# Convert X to polynomial format\n",
    "from sklearn.preprocessing import PolynomialFeatures\n",
    "poly_reg_3 = PolynomialFeatures(degree=3)\n",
    "X_poly_3 = poly_reg_3.fit_transform(X)\n",
    "\n",
    "#Passing X_poly to LinearRegression\n",
    "lin_reg_3 = LinearRegression()\n",
    "lin_reg_3.fit(X_poly_3, y)\n",
    "y_pred_3 = lin_reg_3.predict(X_poly_3)\n",
    "\n",
    "#Visualize Poly Regression Results\n",
    "plt.scatter(X, y, color=\"red\")\n",
    "plt.plot(X,y_pred_3)\n",
    "plt.title(\"Poly Regression Degree 3\")\n",
    "plt.xlabel(\"Level\")\n",
    "plt.ylabel(\"Salary\")\n",
    "plt.show()\n",
    "\n",
    "# Polynomial Regression prediction\n",
    "new_salary_pred = lin_reg_3.predict(poly_reg_3.fit_transform([[6.5]]))\n",
    "print('The predicted salary of a person at 6.5 Level is ',new_salary_pred)"
   ]
  },
  {
   "cell_type": "code",
   "execution_count": 44,
   "metadata": {},
   "outputs": [
    {
     "name": "stdout",
     "output_type": "stream",
     "text": [
      "R2 score for linear regression:  0.9808499387901431\n",
      "Mean Squared Error for linear regression:  1515662004.6620107\n"
     ]
    }
   ],
   "source": [
    "from sklearn.metrics import r2_score\n",
    "from sklearn.metrics import mean_squared_error\n",
    "print(\"R2 score for linear regression: \",r2_score(y_pred_3,y))\n",
    "print(\"Mean Squared Error for linear regression: \",mean_squared_error(y_pred_3,y))"
   ]
  },
  {
   "cell_type": "code",
   "execution_count": 41,
   "metadata": {},
   "outputs": [
    {
     "data": {
      "image/png": "[encoded data removed]",
      "text/plain": [
       "<Figure size 432x288 with 1 Axes>"
      ]
     },
     "metadata": {
      "needs_background": "light"
     },
     "output_type": "display_data"
    },
    {
     "name": "stdout",
     "output_type": "stream",
     "text": [
      "The predicted salary of a person at 6.5 Level is  [158862.45265153]\n"
     ]
    }
   ],
   "source": [
    "# Change degree to 4 \n",
    "\n",
    "# Convert X to polynomial format\n",
    "from sklearn.preprocessing import PolynomialFeatures\n",
    "poly_reg_4 = PolynomialFeatures(degree=4)\n",
    "X_poly_4 = poly_reg_4.fit_transform(X)\n",
    "\n",
    "# Passing X_poly to LinearRegression\n",
    "lin_reg_4 = LinearRegression()\n",
    "lin_reg_4.fit(X_poly_4, y)\n",
    "y_pred_4 = lin_reg_4.predict(X_poly_4)\n",
    "\n",
    "# Visualize Poly Regression Results\n",
    "plt.scatter(X, y, color=\"red\")\n",
    "plt.plot(X,y_pred_4)\n",
    "plt.title(\"Poly Regression Degree 4\")\n",
    "plt.xlabel(\"Level\")\n",
    "plt.ylabel(\"Salary\")\n",
    "plt.show()\n",
    "\n",
    "# Polynomial Regression prediction\n",
    "new_salary_pred = lin_reg_4.predict(poly_reg_4.fit_transform([[6.5]]))\n",
    "print('The predicted salary of a person at 6.5 Level is ',new_salary_pred)"
   ]
  },
  {
   "cell_type": "code",
   "execution_count": 43,
   "metadata": {},
   "outputs": [
    {
     "name": "stdout",
     "output_type": "stream",
     "text": [
      "R2 score for linear regression:  0.9973854712356877\n",
      "Mean Squared Error for linear regression:  210343822.84383044\n"
     ]
    }
   ],
   "source": [
    "from sklearn.metrics import r2_score\n",
    "from sklearn.metrics import mean_squared_error\n",
    "print(\"R2 score for linear regression: \",r2_score(y_pred_4,y))\n",
    "print(\"Mean Squared Error for linear regression: \",mean_squared_error(y_pred_4,y))"
   ]
  }
 ],
 "metadata": {
  "kernelspec": {
   "display_name": "Python 3",
   "language": "python",
   "name": "python3"
  },
  "language_info": {
   "codemirror_mode": {
    "name": "ipython",
    "version": 3
   },
   "file_extension": ".py",
   "mimetype": "text/x-python",
   "name": "python",
   "nbconvert_exporter": "python",
   "pygments_lexer": "ipython3",
   "version": "3.8.5"
  }
 },
 "nbformat": 4,
 "nbformat_minor": 4
}
